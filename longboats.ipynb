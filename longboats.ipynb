{
 "cells": [
  {
   "cell_type": "code",
   "execution_count": 1,
   "id": "public-taxation",
   "metadata": {},
   "outputs": [],
   "source": [
    "from scipy.constants import nautical_mile\n",
    "import numpy as np"
   ]
  },
  {
   "cell_type": "markdown",
   "id": "stock-hours",
   "metadata": {},
   "source": [
    "## Longboat speeds\n",
    "\n",
    "Assumptions based on studies:\n",
    "\n",
    "1. Favourable wind conditions, in downwind run, the square sail could give 15kt sustained speed over ground (SOG).\n",
    "1. In unfavourable wind conditions (not enough or headwind in a narrow fjord, for example) the boat was probably rowed giving 5kt sustained SOG. Big waves could have been a problem in this case.\n",
    "1. Combined by using wind and rowing a longboat could travel more than 200km in 24 hours. This corresponds to 108nm/day with 4.5kt average speed.\n",
    "\n",
    "Let's see what max VMG could have been when beating in moderate winds."
   ]
  },
  {
   "cell_type": "code",
   "execution_count": 2,
   "id": "charged-somerset",
   "metadata": {},
   "outputs": [
    {
     "data": {
      "text/plain": [
       "3.9999999999999996"
      ]
     },
     "execution_count": 2,
     "metadata": {},
     "output_type": "execute_result"
    }
   ],
   "source": [
    "# assume SOG of 8kt and TWD 30deg\n",
    "8*np.sin(np.deg2rad(30))"
   ]
  },
  {
   "cell_type": "code",
   "execution_count": 3,
   "id": "steady-massage",
   "metadata": {},
   "outputs": [
    {
     "data": {
      "text/plain": [
       "5.142300877492314"
      ]
     },
     "execution_count": 3,
     "metadata": {},
     "output_type": "execute_result"
    }
   ],
   "source": [
    "# assume boat speed of 8kt and TWD 30deg\n",
    "8*np.sin(np.deg2rad(40))"
   ]
  },
  {
   "cell_type": "markdown",
   "id": "regulated-intermediate",
   "metadata": {},
   "source": [
    "Hence, maybe velocity made good (VMG) could have been around 5kt. Let's use these:"
   ]
  },
  {
   "cell_type": "code",
   "execution_count": 10,
   "id": "tight-concentrate",
   "metadata": {},
   "outputs": [],
   "source": [
    "# assumed max speeds in wind range 10-40kt\n",
    "windward_sails=5\n",
    "downwind_sails=15\n",
    "rowing=5\n",
    "# average speed resulting from 200km per day expert estimate\n",
    "combined=4.5\n",
    "\n",
    "def estimates(distance):\n",
    "    print(\"Route: %.2f nm\" % distance)\n",
    "    \n",
    "    slowest=distance/windward_sails\n",
    "    print(\"Naive slowest time: %.2f hours\" % slowest)\n",
    "    fastest=distance/downwind_sails\n",
    "    print(\"Naive fastest time: %.2f hours\" % fastest)\n",
    "\n",
    "    expert=distance/combined\n",
    "    print(\"200km/day estimate 100%: {:.2f} hours\".format(expert))\n",
    "    print(\"200km/day estimate 80%: {:.2f} hours\".format(expert/.8))\n",
    "    print(\"200km/day estimate 120%: {:.2f} hours\".format(expert/1.2))"
   ]
  },
  {
   "cell_type": "markdown",
   "id": "destroyed-mission",
   "metadata": {},
   "source": [
    "## Probable legs in Baltic Sea\n",
    "\n",
    "Time assumptions do not take account possible landings on the route. Slowest and fastest times naively assume max speeds in given conditions (wind direction or rowing). Slowest assumes beating or rowing all the time and fastest surfing downwind all the time. Therefore it is adviced to use the average to get more realistic estimate.\n",
    "\n",
    "### Tukholma-Pori\n",
    "![1](img/tukholma-pori.png)"
   ]
  },
  {
   "cell_type": "code",
   "execution_count": 11,
   "id": "fitting-opposition",
   "metadata": {},
   "outputs": [
    {
     "name": "stdout",
     "output_type": "stream",
     "text": [
      "Route: 206.26 nm\n",
      "Naive slowest time: 41.25 hours\n",
      "Naive fastest time: 13.75 hours\n",
      "200km/day estimate 100%: 45.84 hours\n",
      "200km/day estimate 80%: 57.30 hours\n",
      "200km/day estimate 120%: 38.20 hours\n"
     ]
    }
   ],
   "source": [
    "estimates(382e3/nautical_mile)"
   ]
  },
  {
   "cell_type": "markdown",
   "id": "textile-rachel",
   "metadata": {},
   "source": [
    "### Pori-Pietari\n",
    "![2](img/pori-pietari.png)"
   ]
  },
  {
   "cell_type": "code",
   "execution_count": 12,
   "id": "adjacent-hundred",
   "metadata": {},
   "outputs": [
    {
     "name": "stdout",
     "output_type": "stream",
     "text": [
      "Route: 362.85 nm\n",
      "Naive slowest time: 72.57 hours\n",
      "Naive fastest time: 24.19 hours\n",
      "200km/day estimate 100%: 80.63 hours\n",
      "200km/day estimate 80%: 100.79 hours\n",
      "200km/day estimate 120%: 67.19 hours\n"
     ]
    }
   ],
   "source": [
    "estimates(672e3/nautical_mile)"
   ]
  },
  {
   "cell_type": "markdown",
   "id": "right-space",
   "metadata": {},
   "source": [
    "### Tukholma-Turku\n",
    "![3](img/tukholma-turku.png)"
   ]
  },
  {
   "cell_type": "code",
   "execution_count": 13,
   "id": "criminal-chassis",
   "metadata": {},
   "outputs": [
    {
     "name": "stdout",
     "output_type": "stream",
     "text": [
      "Route: 148.49 nm\n",
      "Naive slowest time: 29.70 hours\n",
      "Naive fastest time: 9.90 hours\n",
      "200km/day estimate 100%: 33.00 hours\n",
      "200km/day estimate 80%: 41.25 hours\n",
      "200km/day estimate 120%: 27.50 hours\n"
     ]
    }
   ],
   "source": [
    "estimates(275e3/nautical_mile)"
   ]
  }
 ],
 "metadata": {
  "kernelspec": {
   "display_name": "Python 3 (ipykernel)",
   "language": "python",
   "name": "python3"
  },
  "language_info": {
   "codemirror_mode": {
    "name": "ipython",
    "version": 3
   },
   "file_extension": ".py",
   "mimetype": "text/x-python",
   "name": "python",
   "nbconvert_exporter": "python",
   "pygments_lexer": "ipython3",
   "version": "3.9.7"
  }
 },
 "nbformat": 4,
 "nbformat_minor": 5
}
